{
 "cells": [
  {
   "cell_type": "code",
   "execution_count": 1,
   "metadata": {
    "colab": {
     "base_uri": "https://localhost:8080/"
    },
    "id": "UgM7VEXCdbTX",
    "outputId": "b423bdd9-e720-4824-b3f3-32d57fd8866a"
   },
   "outputs": [],
   "source": [
    "import pandas as pd\n",
    "import numpy as np\n",
    "import csv\n",
    "import re\n",
    "import string\n",
    "from collections import defaultdict\n",
    "#from google.colab import drive\n",
    "#drive.mount('/content/drive')"
   ]
  },
  {
   "cell_type": "code",
   "execution_count": 2,
   "metadata": {
    "id": "1BTTm7E7hz51"
   },
   "outputs": [],
   "source": [
    "url_test = 'https://docs.google.com/spreadsheets/d/e/2PACX-1vTj6g3GFhmQ6N_K--THLISk2TzpfGkI6vTK2_jaENX6INU2BFPr1pIc6Fs5DryL2Q/pub?gid=1844931619&single=true&output=tsv'\n",
    "url_train = 'https://docs.google.com/spreadsheets/d/e/2PACX-1vQ2v-WuHn21qUQSz5RsEKmDCkxnKu9Zgcc-sVnV--hx_83vRfILre3Tc-btU4VUUg/pub?gid=207380422&single=true&output=tsv'"
   ]
  },
  {
   "cell_type": "markdown",
   "metadata": {
    "id": "WEtmPp7epxEZ"
   },
   "source": [
    "# Load and inspect the data"
   ]
  },
  {
   "cell_type": "code",
   "execution_count": 3,
   "metadata": {
    "id": "2gYp_1Kmqt5W"
   },
   "outputs": [],
   "source": [
    "from io import StringIO\n",
    "import requests\n",
    "r_train = requests.get(url_train)\n",
    "data_train = r_train.content.decode('utf8')\n",
    "df_train_dev = pd.read_csv(StringIO(data_train), sep = '\\t')\n",
    "df_train_dev.columns= ['bug', 'label']\n",
    "df_train_dev.dropna(subset=['label'], inplace=True)\n",
    "\n",
    "\n",
    "r_test = requests.get(url_test)\n",
    "data_test= r_test.content.decode('utf8')\n",
    "df_test = pd.read_csv(StringIO(data_test), sep = '\\t')\n",
    "df_test.columns= ['bug', 'label']\n",
    "df_test.dropna(subset=['label'], inplace=True)"
   ]
  },
  {
   "cell_type": "code",
   "execution_count": 4,
   "metadata": {
    "colab": {
     "base_uri": "https://localhost:8080/"
    },
    "id": "KWTvXPPgiDzU",
    "outputId": "03cc0b6f-7118-4172-ce3a-9675c7145260"
   },
   "outputs": [
    {
     "name": "stdout",
     "output_type": "stream",
     "text": [
      "Infos train-dev-set:\n",
      "<class 'pandas.core.frame.DataFrame'>\n",
      "Int64Index: 11916 entries, 0 to 11915\n",
      "Data columns (total 2 columns):\n",
      " #   Column  Non-Null Count  Dtype \n",
      "---  ------  --------------  ----- \n",
      " 0   bug     11916 non-null  object\n",
      " 1   label   11916 non-null  object\n",
      "dtypes: object(2)\n",
      "memory usage: 279.3+ KB\n",
      "None\n",
      "Infos test-set:\n",
      "<class 'pandas.core.frame.DataFrame'>\n",
      "Int64Index: 1199 entries, 0 to 1198\n",
      "Data columns (total 2 columns):\n",
      " #   Column  Non-Null Count  Dtype \n",
      "---  ------  --------------  ----- \n",
      " 0   bug     1199 non-null   object\n",
      " 1   label   1199 non-null   object\n",
      "dtypes: object(2)\n",
      "memory usage: 28.1+ KB\n",
      "None\n"
     ]
    }
   ],
   "source": [
    "print('Infos train-dev-set:')\n",
    "print(df_train_dev.info())\n",
    "print('Infos test-set:')\n",
    "print(df_test.info())"
   ]
  },
  {
   "cell_type": "code",
   "execution_count": 5,
   "metadata": {
    "colab": {
     "base_uri": "https://localhost:8080/",
     "height": 202
    },
    "id": "h8lCjkb_kSOp",
    "outputId": "ac8f018d-2297-436a-af33-7c1cba829afc"
   },
   "outputs": [
    {
     "data": {
      "text/html": [
       "<div>\n",
       "<style scoped>\n",
       "    .dataframe tbody tr th:only-of-type {\n",
       "        vertical-align: middle;\n",
       "    }\n",
       "\n",
       "    .dataframe tbody tr th {\n",
       "        vertical-align: top;\n",
       "    }\n",
       "\n",
       "    .dataframe thead th {\n",
       "        text-align: right;\n",
       "    }\n",
       "</style>\n",
       "<table border=\"1\" class=\"dataframe\">\n",
       "  <thead>\n",
       "    <tr style=\"text-align: right;\">\n",
       "      <th></th>\n",
       "      <th>bug</th>\n",
       "      <th>label</th>\n",
       "    </tr>\n",
       "  </thead>\n",
       "  <tbody>\n",
       "    <tr>\n",
       "      <th>0</th>\n",
       "      <td>Garbage characters in form list boxes.</td>\n",
       "      <td>blocker</td>\n",
       "    </tr>\n",
       "    <tr>\n",
       "      <th>1</th>\n",
       "      <td>Views that have visibility hidden still eat ev...</td>\n",
       "      <td>blocker</td>\n",
       "    </tr>\n",
       "    <tr>\n",
       "      <th>2</th>\n",
       "      <td>[BLOCKER]Need architecture for focused text wi...</td>\n",
       "      <td>blocker</td>\n",
       "    </tr>\n",
       "    <tr>\n",
       "      <th>3</th>\n",
       "      <td>navigator.javaEnabled() is always false</td>\n",
       "      <td>blocker</td>\n",
       "    </tr>\n",
       "    <tr>\n",
       "      <th>4</th>\n",
       "      <td>[BLOCK] Native Gtk combobox is a grey rectangl...</td>\n",
       "      <td>blocker</td>\n",
       "    </tr>\n",
       "  </tbody>\n",
       "</table>\n",
       "</div>"
      ],
      "text/plain": [
       "                                                 bug    label\n",
       "0             Garbage characters in form list boxes.  blocker\n",
       "1  Views that have visibility hidden still eat ev...  blocker\n",
       "2  [BLOCKER]Need architecture for focused text wi...  blocker\n",
       "3            navigator.javaEnabled() is always false  blocker\n",
       "4  [BLOCK] Native Gtk combobox is a grey rectangl...  blocker"
      ]
     },
     "execution_count": 5,
     "metadata": {},
     "output_type": "execute_result"
    }
   ],
   "source": [
    "df_train_dev.head()"
   ]
  },
  {
   "cell_type": "code",
   "execution_count": 6,
   "metadata": {
    "colab": {
     "base_uri": "https://localhost:8080/"
    },
    "id": "p-K1HUEordhz",
    "outputId": "ddc9b95c-a134-4587-c4af-9de5f1798a12"
   },
   "outputs": [
    {
     "name": "stdout",
     "output_type": "stream",
     "text": [
      "['blocker' 'critical' 'major' 'normal' 'minor' 'trivial']\n"
     ]
    }
   ],
   "source": [
    "print(df_train_dev.label.unique())"
   ]
  },
  {
   "cell_type": "code",
   "execution_count": 7,
   "metadata": {
    "colab": {
     "base_uri": "https://localhost:8080/",
     "height": 377
    },
    "id": "mok54OinmXQw",
    "outputId": "53295b2f-137d-4bdf-b059-e34e26d582fc"
   },
   "outputs": [
    {
     "data": {
      "text/plain": [
       "<matplotlib.axes._subplots.AxesSubplot at 0x21c50764c88>"
      ]
     },
     "execution_count": 7,
     "metadata": {},
     "output_type": "execute_result"
    }
   ],
   "source": [
    "df_train_dev.groupby('label').size().sort_values(ascending = False).plot.bar(figsize=(20, 5))"
   ]
  },
  {
   "cell_type": "code",
   "execution_count": 8,
   "metadata": {
    "colab": {
     "base_uri": "https://localhost:8080/"
    },
    "id": "3f24YMQAz44u",
    "outputId": "a7ab9040-964b-4aa9-e67b-3fd32a583740"
   },
   "outputs": [
    {
     "data": {
      "text/plain": [
       "label\n",
       "trivial     2000\n",
       "minor       2000\n",
       "major       2000\n",
       "critical    2000\n",
       "normal      1965\n",
       "blocker     1951\n",
       "dtype: int64"
      ]
     },
     "execution_count": 8,
     "metadata": {},
     "output_type": "execute_result"
    }
   ],
   "source": [
    "df_train_dev.groupby('label').size().sort_values(ascending = False)"
   ]
  },
  {
   "cell_type": "markdown",
   "metadata": {
    "id": "1qxb9qeRprB8"
   },
   "source": [
    "# Process labels"
   ]
  },
  {
   "cell_type": "code",
   "execution_count": 9,
   "metadata": {
    "id": "8FwgxNUdngK1"
   },
   "outputs": [],
   "source": [
    "from sklearn.preprocessing import LabelEncoder\n",
    "le_fitted = LabelEncoder().fit(df_train_dev['label'])"
   ]
  },
  {
   "cell_type": "code",
   "execution_count": 10,
   "metadata": {
    "colab": {
     "base_uri": "https://localhost:8080/"
    },
    "id": "2V6JkOLrn-75",
    "outputId": "e898fa60-5185-497b-da63-6e15d5186c9f"
   },
   "outputs": [
    {
     "name": "stdout",
     "output_type": "stream",
     "text": [
      "[]\n"
     ]
    }
   ],
   "source": [
    "# map all classes that are not in train_dev to undefined\n",
    "for i, label in enumerate(df_test['label']):\n",
    "    df_test['label'][i] = 'und' if label not in le_fitted.classes_ else label\n",
    "# check if it worked: should return an empty list\n",
    "print([label for label in df_test['label'] if label not in set(df_train_dev['label'])])"
   ]
  },
  {
   "cell_type": "code",
   "execution_count": 11,
   "metadata": {
    "colab": {
     "base_uri": "https://localhost:8080/"
    },
    "id": "Y4mGBukF1Dzu",
    "outputId": "4b0c27dd-4806-4f5f-9ef4-74eeb9439330"
   },
   "outputs": [
    {
     "data": {
      "text/plain": [
       "0    blocker\n",
       "1    blocker\n",
       "2    blocker\n",
       "3    blocker\n",
       "4    blocker\n",
       "5    blocker\n",
       "6    blocker\n",
       "7    blocker\n",
       "8    blocker\n",
       "9    blocker\n",
       "Name: label, dtype: object"
      ]
     },
     "execution_count": 11,
     "metadata": {},
     "output_type": "execute_result"
    }
   ],
   "source": [
    "df_train_dev['label'][:10]"
   ]
  },
  {
   "cell_type": "code",
   "execution_count": 12,
   "metadata": {
    "id": "EV6KmRn4oOIF"
   },
   "outputs": [],
   "source": [
    "y_train_dev, y_test = le_fitted.transform(df_train_dev['label']), le_fitted.transform(df_test['label'])"
   ]
  },
  {
   "cell_type": "code",
   "execution_count": 13,
   "metadata": {
    "id": "vLqBLNeOxBQm"
   },
   "outputs": [],
   "source": [
    "x_train = df_train_dev.bug\n",
    "y_train = y_train_dev\n",
    "x_test = df_test.bug\n",
    "y_test = y_test"
   ]
  },
  {
   "cell_type": "code",
   "execution_count": 14,
   "metadata": {
    "id": "iXjWhjVaxEic"
   },
   "outputs": [],
   "source": [
    "# Creating a pipeline\n",
    "from sklearn.pipeline import Pipeline, FeatureUnion\n",
    "from sklearn.feature_extraction.text import CountVectorizer\n",
    "from sklearn.feature_extraction.text import TfidfTransformer\n",
    "\n",
    "text_clf = Pipeline([\n",
    "                      ('ngram_count_vect', CountVectorizer(ngram_range=(1, 3), analyzer='word')), # Convert a collection of text documents to a matrix of unigram, bigram and trigram counts\n",
    "                      ('tfidf_ngram_transformer', TfidfTransformer(smooth_idf=True)) # Convert to tf-idf measure\n",
    "])\n",
    "\n",
    "# Pipelining training data\n",
    "x_train_prepared = text_clf.fit_transform(x_train)\n",
    "\n",
    "# Pipelining our test and dev data\n",
    "x_test_prepared = text_clf.transform(x_test)"
   ]
  },
  {
   "cell_type": "code",
   "execution_count": null,
   "metadata": {
    "id": "5uNJEldfxlBf"
   },
   "outputs": [],
   "source": [
    "from sklearn.neural_network import MLPClassifier\n",
    "from sklearn.metrics import accuracy_score\n",
    "\n",
    "# Train a Naïve Bayes classifier\n",
    "mlp_clf = MLPClassifier(activation='relu', alpha=0.001, early_stopping=True, hidden_layer_sizes=(400, 200), learning_rate='adaptive', solver='adam')\n",
    "mlp_clf.fit(x_train_prepared, y_train)\n",
    "\n",
    "accuracy_score(mlp_clf.predict(x_test_prepared), y_test)"
   ]
  },
  {
   "cell_type": "code",
   "execution_count": null,
   "metadata": {
    "colab": {
     "base_uri": "https://localhost:8080/"
    },
    "id": "YA7zAhZCy9gh",
    "outputId": "bd7592bd-b00f-47cd-c3fc-7d888ee46348"
   },
   "outputs": [],
   "source": [
    "from sklearn.naive_bayes import MultinomialNB\n",
    "from sklearn.metrics import accuracy_score\n",
    "# Train a Naïve Bayes classifier\n",
    "nb_clf = MultinomialNB()\n",
    "nb_clf.fit(x_train_prepared, y_train)\n",
    "accuracy_score(nb_clf.predict(x_test_prepared), y_test)"
   ]
  },
  {
   "cell_type": "code",
   "execution_count": null,
   "metadata": {
    "colab": {
     "base_uri": "https://localhost:8080/"
    },
    "id": "htGYMDdgzDCy",
    "outputId": "1b5e2b35-5d1c-44ef-beff-a98ad38ab0c6"
   },
   "outputs": [],
   "source": [
    "from sklearn.linear_model import SGDClassifier\n",
    "\n",
    "# Train a SGD classifier\n",
    "sgd_clf = SGDClassifier()\n",
    "sgd_clf.fit(x_train_prepared, y_train)\n",
    "accuracy_score(sgd_clf.predict(x_test_prepared), y_test)"
   ]
  },
  {
   "cell_type": "code",
   "execution_count": null,
   "metadata": {
    "colab": {
     "base_uri": "https://localhost:8080/"
    },
    "id": "xwIkTWJMzI2t",
    "outputId": "9038faec-301f-4e43-abd2-928d96c2d838"
   },
   "outputs": [],
   "source": [
    "from sklearn.metrics import precision_score, recall_score, f1_score, confusion_matrix\n",
    "from sklearn.model_selection import cross_val_predict\n",
    "from sklearn.model_selection import cross_val_score\n",
    "\n",
    "\n",
    "\n",
    "# Scores of NB classifier\n",
    "print('Scores of Naïve Bayes classifier:')\n",
    "y_train_predictions_nb = cross_val_predict(nb_clf, x_train_prepared, y_train, cv=3)\n",
    "print(f'precision: {precision_score(y_train, y_train_predictions_nb, average=\"micro\")}')\n",
    "print(f'recall: {recall_score(y_train, y_train_predictions_nb, average=\"micro\")}')\n",
    "print(f'f1: {f1_score(y_train, y_train_predictions_nb, average=\"micro\")}')\n",
    "\n",
    "# Scores of SGD classifier\n",
    "print('Scores of SGD classifier:')\n",
    "y_train_predictions_sgd = cross_val_predict(sgd_clf, x_train_prepared, y_train, cv=3)\n",
    "print(f'precision: {precision_score(y_train, y_train_predictions_sgd, average=\"micro\")}')\n",
    "print(f'recall: {recall_score(y_train, y_train_predictions_sgd, average=\"micro\")}')\n",
    "print(f'f1: {f1_score(y_train, y_train_predictions_sgd, average=\"micro\")}')\n",
    "\n",
    "\n",
    "# Scores of MLP classifier\n",
    "print('Scores of SGD classifier:')\n",
    "y_train_predictions_mlp = cross_val_predict(mlp_clf, x_train_prepared, y_train, cv=3)\n",
    "print(f'precision: {precision_score(y_train, y_train_predictions_mlp, average=\"micro\")}')\n",
    "print(f'recall: {recall_score(y_train, y_train_predictions_mlp, average=\"micro\")}')\n",
    "print(f'f1: {f1_score(y_train, y_train_predictions_mlp, average=\"micro\")}')\n"
   ]
  },
  {
   "cell_type": "code",
   "execution_count": null,
   "metadata": {
    "id": "ZWTvsmnr06MM"
   },
   "outputs": [],
   "source": [
    "import matplotlib.pyplot as plt\n",
    "\n",
    "# Confusion matrices\n",
    "conf_mx_nb = confusion_matrix(y_train, y_train_predictions_nb)\n",
    "conf_mx_sgd = confusion_matrix(y_train, y_train_predictions_sgd)\n",
    "conf_mx_mlp = confusion_matrix(y_train, y_train_predictions_mlp)\n",
    "# NB classifier\n",
    "plt.matshow(conf_mx_nb, cmap=plt.cm.gray)\n",
    "plt.show\n",
    "\n",
    "# SGD classifier\n",
    "plt.matshow(conf_mx_sgd, cmap=plt.cm.gray)\n",
    "plt.show\n",
    "\n",
    "# MLP CLassifier\n",
    "plt.matshow(conf_mx_mlp, cmap=plt.cm.gray)\n",
    "plt.show"
   ]
  }
 ],
 "metadata": {
  "colab": {
   "collapsed_sections": [],
   "name": "dataseminar.ipynb",
   "provenance": []
  },
  "kernelspec": {
   "display_name": "Python 3",
   "language": "python",
   "name": "python3"
  },
  "language_info": {
   "codemirror_mode": {
    "name": "ipython",
    "version": 3
   },
   "file_extension": ".py",
   "mimetype": "text/x-python",
   "name": "python",
   "nbconvert_exporter": "python",
   "pygments_lexer": "ipython3",
   "version": "3.7.0"
  }
 },
 "nbformat": 4,
 "nbformat_minor": 1
}
